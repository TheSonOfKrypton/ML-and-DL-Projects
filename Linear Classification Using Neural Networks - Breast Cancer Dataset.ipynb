{
  "nbformat": 4,
  "nbformat_minor": 0,
  "metadata": {
    "colab": {
      "provenance": [],
      "authorship_tag": "ABX9TyOFO+jd2mdq6NnZWI9g9weo"
    },
    "kernelspec": {
      "name": "python3",
      "display_name": "Python 3"
    },
    "language_info": {
      "name": "python"
    }
  },
  "cells": [
    {
      "cell_type": "markdown",
      "source": [
        "# Linear Classification on the Breast Cancer Dataset Using Neural Networks\n",
        "\n",
        "## Project Overview\n",
        "This notebook demonstrates how to build and train a neural network for binary classification using the famous **Breast Cancer Wisconsin dataset**. This is a classic machine learning problem that helps students understand the fundamentals of medical diagnosis prediction.\n",
        "\n",
        "## Dataset Details\n",
        "- **Source**: Wisconsin Breast Cancer Dataset (569 samples, 30 features)\n",
        "- **Task**: Binary classification (Malignant vs Benign tumors)\n",
        "- **Features**: Cell nuclei characteristics computed from digitized images\n",
        "- **Real-world relevance**: Medical diagnosis support system\n",
        "\n",
        "## Technical Implementation\n",
        "- **Framework**: Keras from TensorFlow - industry-standard deep learning library\n",
        "- **Model Architecture**: Feedforward neural network optimized for binary classification\n",
        "- **Best Practices**: Proper train-test split to avoid data snooping and ensure generalization\n",
        "- **Evaluation**: Comprehensive metrics including accuracy, precision, recall, and F1-score"
      ],
      "metadata": {
        "id": "Uh2ZfRgpu-2D"
      }
    },
    {
      "cell_type": "code",
      "execution_count": 3,
      "metadata": {
        "colab": {
          "base_uri": "https://localhost:8080/"
        },
        "id": "5iXmxt-Fuxil",
        "outputId": "472393de-158c-407e-80b8-e843a30d0373"
      },
      "outputs": [
        {
          "output_type": "stream",
          "name": "stdout",
          "text": [
            "Requirement already satisfied: tensorflow in /usr/local/lib/python3.12/dist-packages (2.19.0)\n",
            "Requirement already satisfied: absl-py>=1.0.0 in /usr/local/lib/python3.12/dist-packages (from tensorflow) (1.4.0)\n",
            "Requirement already satisfied: astunparse>=1.6.0 in /usr/local/lib/python3.12/dist-packages (from tensorflow) (1.6.3)\n",
            "Requirement already satisfied: flatbuffers>=24.3.25 in /usr/local/lib/python3.12/dist-packages (from tensorflow) (25.2.10)\n",
            "Requirement already satisfied: gast!=0.5.0,!=0.5.1,!=0.5.2,>=0.2.1 in /usr/local/lib/python3.12/dist-packages (from tensorflow) (0.6.0)\n",
            "Requirement already satisfied: google-pasta>=0.1.1 in /usr/local/lib/python3.12/dist-packages (from tensorflow) (0.2.0)\n",
            "Requirement already satisfied: libclang>=13.0.0 in /usr/local/lib/python3.12/dist-packages (from tensorflow) (18.1.1)\n",
            "Requirement already satisfied: opt-einsum>=2.3.2 in /usr/local/lib/python3.12/dist-packages (from tensorflow) (3.4.0)\n",
            "Requirement already satisfied: packaging in /usr/local/lib/python3.12/dist-packages (from tensorflow) (25.0)\n",
            "Requirement already satisfied: protobuf!=4.21.0,!=4.21.1,!=4.21.2,!=4.21.3,!=4.21.4,!=4.21.5,<6.0.0dev,>=3.20.3 in /usr/local/lib/python3.12/dist-packages (from tensorflow) (5.29.5)\n",
            "Requirement already satisfied: requests<3,>=2.21.0 in /usr/local/lib/python3.12/dist-packages (from tensorflow) (2.32.4)\n",
            "Requirement already satisfied: setuptools in /usr/local/lib/python3.12/dist-packages (from tensorflow) (75.2.0)\n",
            "Requirement already satisfied: six>=1.12.0 in /usr/local/lib/python3.12/dist-packages (from tensorflow) (1.17.0)\n",
            "Requirement already satisfied: termcolor>=1.1.0 in /usr/local/lib/python3.12/dist-packages (from tensorflow) (3.1.0)\n",
            "Requirement already satisfied: typing-extensions>=3.6.6 in /usr/local/lib/python3.12/dist-packages (from tensorflow) (4.15.0)\n",
            "Requirement already satisfied: wrapt>=1.11.0 in /usr/local/lib/python3.12/dist-packages (from tensorflow) (1.17.3)\n",
            "Requirement already satisfied: grpcio<2.0,>=1.24.3 in /usr/local/lib/python3.12/dist-packages (from tensorflow) (1.75.0)\n",
            "Requirement already satisfied: tensorboard~=2.19.0 in /usr/local/lib/python3.12/dist-packages (from tensorflow) (2.19.0)\n",
            "Requirement already satisfied: keras>=3.5.0 in /usr/local/lib/python3.12/dist-packages (from tensorflow) (3.10.0)\n",
            "Requirement already satisfied: numpy<2.2.0,>=1.26.0 in /usr/local/lib/python3.12/dist-packages (from tensorflow) (2.0.2)\n",
            "Requirement already satisfied: h5py>=3.11.0 in /usr/local/lib/python3.12/dist-packages (from tensorflow) (3.14.0)\n",
            "Requirement already satisfied: ml-dtypes<1.0.0,>=0.5.1 in /usr/local/lib/python3.12/dist-packages (from tensorflow) (0.5.3)\n",
            "Requirement already satisfied: wheel<1.0,>=0.23.0 in /usr/local/lib/python3.12/dist-packages (from astunparse>=1.6.0->tensorflow) (0.45.1)\n",
            "Requirement already satisfied: rich in /usr/local/lib/python3.12/dist-packages (from keras>=3.5.0->tensorflow) (13.9.4)\n",
            "Requirement already satisfied: namex in /usr/local/lib/python3.12/dist-packages (from keras>=3.5.0->tensorflow) (0.1.0)\n",
            "Requirement already satisfied: optree in /usr/local/lib/python3.12/dist-packages (from keras>=3.5.0->tensorflow) (0.17.0)\n",
            "Requirement already satisfied: charset_normalizer<4,>=2 in /usr/local/lib/python3.12/dist-packages (from requests<3,>=2.21.0->tensorflow) (3.4.3)\n",
            "Requirement already satisfied: idna<4,>=2.5 in /usr/local/lib/python3.12/dist-packages (from requests<3,>=2.21.0->tensorflow) (3.10)\n",
            "Requirement already satisfied: urllib3<3,>=1.21.1 in /usr/local/lib/python3.12/dist-packages (from requests<3,>=2.21.0->tensorflow) (2.5.0)\n",
            "Requirement already satisfied: certifi>=2017.4.17 in /usr/local/lib/python3.12/dist-packages (from requests<3,>=2.21.0->tensorflow) (2025.8.3)\n",
            "Requirement already satisfied: markdown>=2.6.8 in /usr/local/lib/python3.12/dist-packages (from tensorboard~=2.19.0->tensorflow) (3.9)\n",
            "Requirement already satisfied: tensorboard-data-server<0.8.0,>=0.7.0 in /usr/local/lib/python3.12/dist-packages (from tensorboard~=2.19.0->tensorflow) (0.7.2)\n",
            "Requirement already satisfied: werkzeug>=1.0.1 in /usr/local/lib/python3.12/dist-packages (from tensorboard~=2.19.0->tensorflow) (3.1.3)\n",
            "Requirement already satisfied: MarkupSafe>=2.1.1 in /usr/local/lib/python3.12/dist-packages (from werkzeug>=1.0.1->tensorboard~=2.19.0->tensorflow) (3.0.2)\n",
            "Requirement already satisfied: markdown-it-py>=2.2.0 in /usr/local/lib/python3.12/dist-packages (from rich->keras>=3.5.0->tensorflow) (4.0.0)\n",
            "Requirement already satisfied: pygments<3.0.0,>=2.13.0 in /usr/local/lib/python3.12/dist-packages (from rich->keras>=3.5.0->tensorflow) (2.19.2)\n",
            "Requirement already satisfied: mdurl~=0.1 in /usr/local/lib/python3.12/dist-packages (from markdown-it-py>=2.2.0->rich->keras>=3.5.0->tensorflow) (0.1.2)\n",
            "Requirement already satisfied: numpy in /usr/local/lib/python3.12/dist-packages (2.0.2)\n",
            "Requirement already satisfied: scikit-learn in /usr/local/lib/python3.12/dist-packages (1.6.1)\n",
            "Requirement already satisfied: numpy>=1.19.5 in /usr/local/lib/python3.12/dist-packages (from scikit-learn) (2.0.2)\n",
            "Requirement already satisfied: scipy>=1.6.0 in /usr/local/lib/python3.12/dist-packages (from scikit-learn) (1.16.2)\n",
            "Requirement already satisfied: joblib>=1.2.0 in /usr/local/lib/python3.12/dist-packages (from scikit-learn) (1.5.2)\n",
            "Requirement already satisfied: threadpoolctl>=3.1.0 in /usr/local/lib/python3.12/dist-packages (from scikit-learn) (3.6.0)\n",
            "\u001b[31mERROR: Could not find a version that satisfies the requirement matplotlib.pyplot (from versions: none)\u001b[0m\u001b[31m\n",
            "\u001b[0m\u001b[31mERROR: No matching distribution found for matplotlib.pyplot\u001b[0m\u001b[31m\n",
            "\u001b[0m"
          ]
        }
      ],
      "source": [
        "!pip install tensorflow\n",
        "!pip install numpy\n",
        "!pip install scikit-learn\n",
        "!pip install matplotlib.pyplot"
      ]
    },
    {
      "cell_type": "code",
      "source": [
        "from sklearn.datasets import load_breast_cancer\n",
        "import numpy as np\n",
        "import matplotlib.pyplot as plt"
      ],
      "metadata": {
        "id": "jVia-zjEyEzF"
      },
      "execution_count": 7,
      "outputs": []
    },
    {
      "cell_type": "markdown",
      "source": [
        "## Load, study, and process the data"
      ],
      "metadata": {
        "id": "sew-8e0xym8N"
      }
    },
    {
      "cell_type": "code",
      "source": [
        "data = load_breast_cancer()\n",
        "type(data)"
      ],
      "metadata": {
        "colab": {
          "base_uri": "https://localhost:8080/",
          "height": 187
        },
        "id": "5k-7XsI5yUjr",
        "outputId": "41e1ae0c-d923-47aa-a0e7-903a68b1b2e5"
      },
      "execution_count": 27,
      "outputs": [
        {
          "output_type": "execute_result",
          "data": {
            "text/plain": [
              "sklearn.utils._bunch.Bunch"
            ],
            "text/html": [
              "<div style=\"max-width:800px; border: 1px solid var(--colab-border-color);\"><style>\n",
              "      pre.function-repr-contents {\n",
              "        overflow-x: auto;\n",
              "        padding: 8px 12px;\n",
              "        max-height: 500px;\n",
              "      }\n",
              "\n",
              "      pre.function-repr-contents.function-repr-contents-collapsed {\n",
              "        cursor: pointer;\n",
              "        max-height: 100px;\n",
              "      }\n",
              "    </style>\n",
              "    <pre style=\"white-space: initial; background:\n",
              "         var(--colab-secondary-surface-color); padding: 8px 12px;\n",
              "         border-bottom: 1px solid var(--colab-border-color);\"><b>sklearn.utils._bunch.Bunch</b><br/>def __init__(**kwargs)</pre><pre class=\"function-repr-contents function-repr-contents-collapsed\" style=\"\"><a class=\"filepath\" style=\"display:none\" href=\"#\">/usr/local/lib/python3.12/dist-packages/sklearn/utils/_bunch.py</a>Container object exposing keys as attributes.\n",
              "\n",
              "Bunch objects are sometimes used as an output for functions and methods.\n",
              "They extend dictionaries by enabling values to be accessed by key,\n",
              "`bunch[&quot;value_key&quot;]`, or by an attribute, `bunch.value_key`.\n",
              "\n",
              "Examples\n",
              "--------\n",
              "&gt;&gt;&gt; from sklearn.utils import Bunch\n",
              "&gt;&gt;&gt; b = Bunch(a=1, b=2)\n",
              "&gt;&gt;&gt; b[&#x27;b&#x27;]\n",
              "2\n",
              "&gt;&gt;&gt; b.b\n",
              "2\n",
              "&gt;&gt;&gt; b.a = 3\n",
              "&gt;&gt;&gt; b[&#x27;a&#x27;]\n",
              "3\n",
              "&gt;&gt;&gt; b.c = 6\n",
              "&gt;&gt;&gt; b[&#x27;c&#x27;]\n",
              "6</pre>\n",
              "      <script>\n",
              "      if (google.colab.kernel.accessAllowed && google.colab.files && google.colab.files.view) {\n",
              "        for (const element of document.querySelectorAll('.filepath')) {\n",
              "          element.style.display = 'block'\n",
              "          element.onclick = (event) => {\n",
              "            event.preventDefault();\n",
              "            event.stopPropagation();\n",
              "            google.colab.files.view(element.textContent, 7);\n",
              "          };\n",
              "        }\n",
              "      }\n",
              "      for (const element of document.querySelectorAll('.function-repr-contents')) {\n",
              "        element.onclick = (event) => {\n",
              "          event.preventDefault();\n",
              "          event.stopPropagation();\n",
              "          element.classList.toggle('function-repr-contents-collapsed');\n",
              "        };\n",
              "      }\n",
              "      </script>\n",
              "      </div>"
            ]
          },
          "metadata": {},
          "execution_count": 27
        }
      ]
    },
    {
      "cell_type": "markdown",
      "source": [
        "Okay, so a Bunch object is very much like a python `dict`. Let's see what we can do with it."
      ],
      "metadata": {
        "id": "2beHBRHqzHAa"
      }
    },
    {
      "cell_type": "code",
      "source": [
        "data.keys()"
      ],
      "metadata": {
        "colab": {
          "base_uri": "https://localhost:8080/"
        },
        "id": "tifzhGHKytAx",
        "outputId": "0d57952b-9225-4f02-e06a-6b8cb0b957bd"
      },
      "execution_count": 28,
      "outputs": [
        {
          "output_type": "execute_result",
          "data": {
            "text/plain": [
              "dict_keys(['data', 'target', 'frame', 'target_names', 'DESCR', 'feature_names', 'filename', 'data_module'])"
            ]
          },
          "metadata": {},
          "execution_count": 28
        }
      ]
    },
    {
      "cell_type": "markdown",
      "source": [
        "Let's see if the data is balanced."
      ],
      "metadata": {
        "id": "05Oj3bez2ol2"
      }
    },
    {
      "cell_type": "code",
      "source": [
        "values, counts = np.unique(data.target, return_counts=True)\n",
        "for v, c in zip(values, counts):\n",
        "  print(f\"{v}: {c}\")"
      ],
      "metadata": {
        "colab": {
          "base_uri": "https://localhost:8080/"
        },
        "id": "HSnwwK2F2rDE",
        "outputId": "c8572e08-a900-4c58-e667-34c8f10d9cad"
      },
      "execution_count": 44,
      "outputs": [
        {
          "output_type": "stream",
          "name": "stdout",
          "text": [
            "0: 212\n",
            "1: 357\n"
          ]
        }
      ]
    },
    {
      "cell_type": "markdown",
      "source": [
        "We see that the data is quite imbalanced. We will stratify our data to ensure that the training is more fair.\n",
        "\n",
        "Let's now split the data into training and test sets to have clearly separated datasets."
      ],
      "metadata": {
        "id": "I2ALmjRbzPkA"
      }
    },
    {
      "cell_type": "code",
      "source": [
        "from sklearn.model_selection import train_test_split\n",
        "\n",
        "X_train, X_test, y_train, y_test = train_test_split(data.data,\n",
        "                                                    data.target,\n",
        "                                                    test_size=0.3,\n",
        "                                                    random_state=7,\n",
        "                                                    stratify=y)\n",
        "observations, features = X_train.shape"
      ],
      "metadata": {
        "id": "xbdJEOXXzMa_"
      },
      "execution_count": 45,
      "outputs": []
    },
    {
      "cell_type": "markdown",
      "source": [
        "Next, we must normalize the data. This is important because features can be differently scaled, and we would like our model to learn patterns fairly without overemphasizing features that have bigger scales."
      ],
      "metadata": {
        "id": "NVVuyvsG0FWk"
      }
    },
    {
      "cell_type": "code",
      "source": [
        "from sklearn.preprocessing import StandardScaler\n",
        "\n",
        "scaler = StandardScaler()\n",
        "X_train = scaler.fit_transform(X_train)\n",
        "X_test = scaler.transform(X_test)"
      ],
      "metadata": {
        "id": "ApRqkx4AzOHV"
      },
      "execution_count": 46,
      "outputs": []
    },
    {
      "cell_type": "markdown",
      "source": [
        "## Build the model\n",
        "\n",
        "Now, we're ready to build our shallow neural network composed of only 1 layer."
      ],
      "metadata": {
        "id": "tLLcShBd1C_F"
      }
    },
    {
      "cell_type": "code",
      "source": [
        "import keras\n",
        "from keras.models import Sequential\n",
        "from keras.layers import Dense\n",
        "\n",
        "model = Sequential()\n",
        "model.add(Dense(1, input_shape=(features,), activation='sigmoid'))\n",
        "\n",
        "model.compile(optimizer='adam', loss='binary_crossentropy', metrics=['accuracy'])"
      ],
      "metadata": {
        "colab": {
          "base_uri": "https://localhost:8080/"
        },
        "id": "EVn2HCST0YRD",
        "outputId": "d601d5d7-4c13-411d-b342-0b22a6cebfed"
      },
      "execution_count": 68,
      "outputs": [
        {
          "output_type": "stream",
          "name": "stderr",
          "text": [
            "/usr/local/lib/python3.12/dist-packages/keras/src/layers/core/dense.py:93: UserWarning: Do not pass an `input_shape`/`input_dim` argument to a layer. When using Sequential models, prefer using an `Input(shape)` object as the first layer in the model instead.\n",
            "  super().__init__(activity_regularizer=activity_regularizer, **kwargs)\n"
          ]
        }
      ]
    },
    {
      "cell_type": "markdown",
      "source": [
        "Let's train our model!"
      ],
      "metadata": {
        "id": "w2rhExsq2YNo"
      }
    },
    {
      "cell_type": "code",
      "source": [
        "result = model.fit(X_train, y_train, epochs=100, verbose=0)"
      ],
      "metadata": {
        "id": "PJIft0FU1Whf"
      },
      "execution_count": 69,
      "outputs": []
    },
    {
      "cell_type": "markdown",
      "source": [
        "## Test the model\n",
        "\n",
        "Now that our model is trained, we will test it on our test set."
      ],
      "metadata": {
        "id": "7veVq0974t4x"
      }
    },
    {
      "cell_type": "code",
      "source": [
        "train_score = model.evaluate(X_train, y_train)\n",
        "test_score = model.evaluate(X_test, y_test)\n",
        "\n",
        "print(f\"Training score: {train_score[1]:.3f}\")\n",
        "print(f\"Test score: {test_score[1]:.3f}\")"
      ],
      "metadata": {
        "colab": {
          "base_uri": "https://localhost:8080/"
        },
        "id": "FoJpjUjy4shY",
        "outputId": "09f88267-96d4-486a-b713-5005679a918d"
      },
      "execution_count": 70,
      "outputs": [
        {
          "output_type": "stream",
          "name": "stdout",
          "text": [
            "\u001b[1m13/13\u001b[0m \u001b[32m━━━━━━━━━━━━━━━━━━━━\u001b[0m\u001b[37m\u001b[0m \u001b[1m0s\u001b[0m 3ms/step - accuracy: 0.9801 - loss: 0.1109  \n",
            "\u001b[1m6/6\u001b[0m \u001b[32m━━━━━━━━━━━━━━━━━━━━\u001b[0m\u001b[37m\u001b[0m \u001b[1m0s\u001b[0m 6ms/step - accuracy: 0.9867 - loss: 0.0862 \n",
            "Training score: 0.967\n",
            "Test score: 0.971\n"
          ]
        }
      ]
    },
    {
      "cell_type": "markdown",
      "source": [
        "Not too shabby. In a medical scenario, accuracy alone is not enough. Even more important is recall, since missing a positive case can mean failing to identify a malignant tumor."
      ],
      "metadata": {
        "id": "6eo06aJa5eU8"
      }
    },
    {
      "cell_type": "code",
      "source": [
        "from sklearn.metrics import classification_report\n",
        "\n",
        "y_pred = model.predict(X_test)\n",
        "\n",
        "# since our output is probabilities\n",
        "y_pred_labels = (y_pred > 0.5).astype(int)\n",
        "\n",
        "print(\"Classification Report:\")\n",
        "print(classification_report(y_test, y_pred_labels))"
      ],
      "metadata": {
        "colab": {
          "base_uri": "https://localhost:8080/"
        },
        "id": "ydePZN2d5fIk",
        "outputId": "d80d6b82-656f-4341-d364-0ee6c9c12f00"
      },
      "execution_count": 71,
      "outputs": [
        {
          "output_type": "stream",
          "name": "stdout",
          "text": [
            "\u001b[1m6/6\u001b[0m \u001b[32m━━━━━━━━━━━━━━━━━━━━\u001b[0m\u001b[37m\u001b[0m \u001b[1m0s\u001b[0m 8ms/step \n",
            "Classification Report:\n",
            "              precision    recall  f1-score   support\n",
            "\n",
            "           0       0.95      0.97      0.96        64\n",
            "           1       0.98      0.97      0.98       107\n",
            "\n",
            "    accuracy                           0.97       171\n",
            "   macro avg       0.97      0.97      0.97       171\n",
            "weighted avg       0.97      0.97      0.97       171\n",
            "\n"
          ]
        }
      ]
    },
    {
      "cell_type": "markdown",
      "source": [
        "Let's try retraining our model to prioritize recall as well this time."
      ],
      "metadata": {
        "id": "JVj2vnUG6cZY"
      }
    },
    {
      "cell_type": "code",
      "source": [
        "from keras.models import clone_model\n",
        "\n",
        "new_model = clone_model(model)\n",
        "new_model.compile(optimizer='adam',\n",
        "                  loss=model.loss,\n",
        "                  metrics=['accuracy', 'Recall'])\n",
        "\n",
        "new_result = new_model.fit(X_train, y_train, epochs=100, verbose=0)"
      ],
      "metadata": {
        "id": "Mlt639PQ5fGg"
      },
      "execution_count": 72,
      "outputs": []
    },
    {
      "cell_type": "code",
      "source": [
        "train_score = new_model.evaluate(X_train, y_train)\n",
        "test_score = new_model.evaluate(X_test, y_test)\n",
        "\n",
        "print(f\"Training score: {train_score[1]:.3f}\")\n",
        "print(f\"Test score: {test_score[1]:.3f}\")"
      ],
      "metadata": {
        "colab": {
          "base_uri": "https://localhost:8080/"
        },
        "id": "JwjY5GBc7E46",
        "outputId": "480feec2-c37b-4210-c390-7a9f1df45d53"
      },
      "execution_count": 73,
      "outputs": [
        {
          "output_type": "stream",
          "name": "stdout",
          "text": [
            "\u001b[1m13/13\u001b[0m \u001b[32m━━━━━━━━━━━━━━━━━━━━\u001b[0m\u001b[37m\u001b[0m \u001b[1m0s\u001b[0m 3ms/step - Recall: 0.9921 - accuracy: 0.9854 - loss: 0.0982  \n",
            "\u001b[1m6/6\u001b[0m \u001b[32m━━━━━━━━━━━━━━━━━━━━\u001b[0m\u001b[37m\u001b[0m \u001b[1m0s\u001b[0m 7ms/step - Recall: 0.9973 - accuracy: 0.9904 - loss: 0.0766 \n",
            "Training score: 0.982\n",
            "Test score: 0.977\n"
          ]
        }
      ]
    },
    {
      "cell_type": "markdown",
      "source": [
        "Our accuracy is also higher as a result. Let's also look at the other metrics."
      ],
      "metadata": {
        "id": "Ltj4FsKb7se_"
      }
    },
    {
      "cell_type": "code",
      "source": [
        "y_pred_new = new_model.predict(X_test)\n",
        "\n",
        "# since our output is probabilities\n",
        "y_pred_new_labels = (y_pred_new > 0.5).astype(int)\n",
        "\n",
        "print(\"Classification Report:\")\n",
        "print(classification_report(y_test, y_pred_new_labels))"
      ],
      "metadata": {
        "colab": {
          "base_uri": "https://localhost:8080/"
        },
        "id": "PNP6AH5-7sFe",
        "outputId": "754db4a3-dd08-4268-929b-56a8958d4592"
      },
      "execution_count": 74,
      "outputs": [
        {
          "output_type": "stream",
          "name": "stdout",
          "text": [
            "\u001b[1m6/6\u001b[0m \u001b[32m━━━━━━━━━━━━━━━━━━━━\u001b[0m\u001b[37m\u001b[0m \u001b[1m0s\u001b[0m 8ms/step \n",
            "Classification Report:\n",
            "              precision    recall  f1-score   support\n",
            "\n",
            "           0       0.98      0.95      0.97        64\n",
            "           1       0.97      0.99      0.98       107\n",
            "\n",
            "    accuracy                           0.98       171\n",
            "   macro avg       0.98      0.97      0.97       171\n",
            "weighted avg       0.98      0.98      0.98       171\n",
            "\n"
          ]
        }
      ]
    },
    {
      "cell_type": "markdown",
      "source": [
        "# Visualize the results\n",
        "\n",
        "Our model is now performing better at identifying malignant tumors, but has gotten poorer at accurately classifying benign ones. Take a look at the 'Extensions' section to see what we can do next.\n",
        "\n",
        "Finally, let's also visualize how the error and our metrics evolved over the course of our model' training and testing."
      ],
      "metadata": {
        "id": "AwQCloI68SvV"
      }
    },
    {
      "cell_type": "code",
      "source": [
        "plt.plot(new_result.history['loss'], label='loss')\n",
        "plt.plot(new_result.history['accuracy'], label='accuracy')\n",
        "plt.plot(new_result.history['Recall'], label='recall')\n",
        "plt.title(\"Model Performance Over Epochs\")\n",
        "plt.xlabel(\"epochs\")\n",
        "plt.ylabel(\"loss\")\n",
        "plt.legend()"
      ],
      "metadata": {
        "colab": {
          "base_uri": "https://localhost:8080/",
          "height": 490
        },
        "id": "v89xRFBX8J4-",
        "outputId": "1ee3effe-bee9-45ae-9919-189e3c53632b"
      },
      "execution_count": 79,
      "outputs": [
        {
          "output_type": "execute_result",
          "data": {
            "text/plain": [
              "<matplotlib.legend.Legend at 0x7e220349b3e0>"
            ]
          },
          "metadata": {},
          "execution_count": 79
        },
        {
          "output_type": "display_data",
          "data": {
            "text/plain": [
              "<Figure size 640x480 with 1 Axes>"
            ],
            "image/png": "[encoded data removed]"
          },
          "metadata": {}
        }
      ]
    },
    {
      "cell_type": "code",
      "source": [],
      "metadata": {
        "id": "0gSX8i7a86vV"
      },
      "execution_count": null,
      "outputs": []
    },
    {
      "cell_type": "markdown",
      "source": [
        "## Conclusion\n",
        "\n",
        "In this lab, we saw that even a single-layer shallow neural network can achieve remarkably high performance on the Breast Cancer Wisconsin dataset. Despite its simplicity, our model was able to effectively distinguish between malignant and benign tumors, highlighting the potential of deep learning approaches (even with minimal architecture) for medical classification problems. By emphasizing metrics such as recall, especially in the context of medical diagnostics, we were able to ensure our model was not only accurate but also clinically meaningful.\n",
        "\n",
        "**Extensions**\n",
        "\n",
        "- Experiment with the neural network’s parameters: Try adding more layers, tweaking activation functions, or adjusting learning rates to explore effects on performance.\n",
        "- Use different evaluation metrics: Beyond accuracy and recall, implement F1-score, ROC-AUC, or specificity to gain a more nuanced assessment.\n",
        "- Compare with other ML models: Evaluate classic classifiers such as logistic regression, decision trees, or support vector machines on the same data.\n",
        "- Try resampling techniques for class imbalance: Test oversampling or undersampling methods and observe how they affect results.\n",
        "- Incorporate cross-validation: Improve the reliability of your findings by using stratified k-fold validation.\n",
        "- Test model generalization: Apply the trained model to external datasets or simulated data for broader insights."
      ],
      "metadata": {
        "id": "Z7Qx7HSX_ckQ"
      }
    },
    {
      "cell_type": "code",
      "source": [],
      "metadata": {
        "id": "zpXyxzuJAF8I"
      },
      "execution_count": null,
      "outputs": []
    }
  ]
}